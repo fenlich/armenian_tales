{
  "nbformat": 4,
  "nbformat_minor": 0,
  "metadata": {
    "colab": {
      "provenance": []
    },
    "kernelspec": {
      "name": "python3",
      "display_name": "Python 3"
    },
    "language_info": {
      "name": "python"
    }
  },
  "cells": [
    {
      "cell_type": "code",
      "execution_count": 132,
      "metadata": {
        "id": "jk4YM5RCcTPW"
      },
      "outputs": [],
      "source": [
        "import requests\n",
        "from bs4 import BeautifulSoup\n",
        "import re\n",
        "import pandas as pd\n",
        "import zipfile\n",
        "import typing"
      ]
    },
    {
      "cell_type": "code",
      "source": [
        "URL = 'http://armenianhouse.org/tumanyan/tales-ru/nazar.html'"
      ],
      "metadata": {
        "id": "T75P_RxEc014"
      },
      "execution_count": 2,
      "outputs": []
    },
    {
      "cell_type": "code",
      "source": [
        "res = requests.get(URL)\n",
        "res.encoding = res.apparent_encoding\n",
        "res"
      ],
      "metadata": {
        "colab": {
          "base_uri": "https://localhost:8080/"
        },
        "id": "x6GzH8khc3CM",
        "outputId": "00b22bd1-e2b5-4385-8f3b-b0c0255745b9"
      },
      "execution_count": 3,
      "outputs": [
        {
          "output_type": "execute_result",
          "data": {
            "text/plain": [
              "<Response [200]>"
            ]
          },
          "metadata": {},
          "execution_count": 3
        }
      ]
    },
    {
      "cell_type": "code",
      "source": [
        "soup = BeautifulSoup(res.text, 'html.parser')"
      ],
      "metadata": {
        "id": "FySGdLXCc6L_"
      },
      "execution_count": 5,
      "outputs": []
    },
    {
      "cell_type": "code",
      "source": [
        "tags = [a for a in soup.find_all(\"a\") if a.parent.name == \"div\"]"
      ],
      "metadata": {
        "id": "ScK0p4mkck_Z"
      },
      "execution_count": 6,
      "outputs": []
    },
    {
      "cell_type": "markdown",
      "source": [
        "## Russian data"
      ],
      "metadata": {
        "id": "R-nMvyaeYNZ3"
      }
    },
    {
      "cell_type": "code",
      "source": [
        "ru_links = [\"http://armenianhouse.org\"+ \"/tumanyan/tales-ru/\" + l[\"href\"] for l in tags]"
      ],
      "metadata": {
        "id": "aNI-oPVpcn0t"
      },
      "execution_count": 7,
      "outputs": []
    },
    {
      "cell_type": "code",
      "source": [
        "del ru_links[0]"
      ],
      "metadata": {
        "id": "ao06elNKcqmZ"
      },
      "execution_count": 9,
      "outputs": []
    },
    {
      "cell_type": "code",
      "source": [
        "ru_links.append('http://armenianhouse.org/tumanyan/tales-ru/nazar.html')"
      ],
      "metadata": {
        "id": "dNKce9K6SqKm"
      },
      "execution_count": 11,
      "outputs": []
    },
    {
      "cell_type": "code",
      "source": [
        "ru_links.remove('http://armenianhouse.org/tumanyan/tales-ru/brother.html')"
      ],
      "metadata": {
        "id": "xY-Fb1Gldsfg"
      },
      "execution_count": 109,
      "outputs": []
    },
    {
      "cell_type": "code",
      "source": [
        "ru_links"
      ],
      "metadata": {
        "colab": {
          "base_uri": "https://localhost:8080/"
        },
        "id": "e1iMDi2VdO8q",
        "outputId": "39183fc5-68f3-471f-e8e2-fdf3079b934e"
      },
      "execution_count": 110,
      "outputs": [
        {
          "output_type": "execute_result",
          "data": {
            "text/plain": [
              "['http://armenianhouse.org/tumanyan/tales-ru/fox.html',\n",
              " 'http://armenianhouse.org/tumanyan/tales-ru/fool.html',\n",
              " 'http://armenianhouse.org/tumanyan/tales-ru/fish.html',\n",
              " 'http://armenianhouse.org/tumanyan/tales-ru/kid.html',\n",
              " 'http://armenianhouse.org/tumanyan/tales-ru/jug.html',\n",
              " 'http://armenianhouse.org/tumanyan/tales-ru/liar.html',\n",
              " 'http://armenianhouse.org/tumanyan/tales-ru/rooster.html',\n",
              " 'http://armenianhouse.org/tumanyan/tales-ru/feast.html',\n",
              " 'http://armenianhouse.org/tumanyan/tales-ru/master.html',\n",
              " 'http://armenianhouse.org/tumanyan/tales-ru/tsar.html',\n",
              " 'http://armenianhouse.org/tumanyan/tales-ru/nazar.html',\n",
              " 'http://armenianhouse.org/tumanyan/tales-am/nazar.html']"
            ]
          },
          "metadata": {},
          "execution_count": 110
        }
      ]
    },
    {
      "cell_type": "code",
      "source": [
        "def get_tales(url: str):\n",
        "  result = {}\n",
        "  print(url)\n",
        "  res = requests.get(url)\n",
        "  res.encoding = res.apparent_encoding\n",
        "  soup = BeautifulSoup(res.text, 'html.parser')\n",
        "  try:\n",
        "    title = soup.h1.text\n",
        "  except AttributeError:\n",
        "    title_el = soup.find('p')\n",
        "    if next(title_el.children).name == 'span':\n",
        "      title = title_el.text\n",
        "    else:\n",
        "      title = ''\n",
        "  text = BeautifulSoup(\" \".join([p.text for p in soup.find_all(\"p\") if p.parent.name != \"td\" and next(p.children).name is None]), \"html.parser\").get_text().replace(\"\\xa0\", \" \")\n",
        "  result[title]=[text]\n",
        "  return result"
      ],
      "metadata": {
        "id": "6PfiR1T-UFT_"
      },
      "execution_count": 103,
      "outputs": []
    },
    {
      "cell_type": "code",
      "source": [
        "result = [get_tales(l) for l in ru_links]"
      ],
      "metadata": {
        "colab": {
          "base_uri": "https://localhost:8080/"
        },
        "id": "PLMhZNnlUYWb",
        "outputId": "83088ef0-757a-49b3-cae0-8533ee1e4079"
      },
      "execution_count": 111,
      "outputs": [
        {
          "output_type": "stream",
          "name": "stdout",
          "text": [
            "http://armenianhouse.org/tumanyan/tales-ru/fox.html\n",
            "http://armenianhouse.org/tumanyan/tales-ru/fool.html\n",
            "http://armenianhouse.org/tumanyan/tales-ru/fish.html\n",
            "http://armenianhouse.org/tumanyan/tales-ru/kid.html\n",
            "http://armenianhouse.org/tumanyan/tales-ru/jug.html\n",
            "http://armenianhouse.org/tumanyan/tales-ru/liar.html\n",
            "http://armenianhouse.org/tumanyan/tales-ru/rooster.html\n",
            "http://armenianhouse.org/tumanyan/tales-ru/feast.html\n",
            "http://armenianhouse.org/tumanyan/tales-ru/master.html\n",
            "http://armenianhouse.org/tumanyan/tales-ru/tsar.html\n",
            "http://armenianhouse.org/tumanyan/tales-ru/nazar.html\n",
            "http://armenianhouse.org/tumanyan/tales-am/nazar.html\n"
          ]
        }
      ]
    },
    {
      "cell_type": "code",
      "source": [
        "tales = {}\n",
        "for i in result:\n",
        "  tales.update(i)"
      ],
      "metadata": {
        "id": "kkp1DA5IVdmH"
      },
      "execution_count": 112,
      "outputs": []
    },
    {
      "cell_type": "code",
      "source": [
        "df = pd.DataFrame(ru_links, columns=['url'])"
      ],
      "metadata": {
        "id": "O_k1_8f3Yc2A"
      },
      "execution_count": 113,
      "outputs": []
    },
    {
      "cell_type": "code",
      "source": [
        "df2 = pd.DataFrame(tales.items(), columns=['title_ru', 'text_ru'])"
      ],
      "metadata": {
        "id": "8zguTlWqQTPb"
      },
      "execution_count": 114,
      "outputs": []
    },
    {
      "cell_type": "code",
      "source": [
        "frames = [df, df2]"
      ],
      "metadata": {
        "id": "uhb8bb--WiQ0"
      },
      "execution_count": 115,
      "outputs": []
    },
    {
      "cell_type": "code",
      "source": [
        "ru_tales = pd.concat(frames, axis=1)"
      ],
      "metadata": {
        "id": "NShgnl8uXZA2"
      },
      "execution_count": 116,
      "outputs": []
    },
    {
      "cell_type": "markdown",
      "source": [
        "## Armenian data"
      ],
      "metadata": {
        "id": "cwcoa_f4YgpW"
      }
    },
    {
      "cell_type": "code",
      "source": [
        "am_links = ['http://armenianhouse.org/tumanyan/tales-am/barekendan.html',\n",
        " 'http://armenianhouse.org/tumanyan/tales-am/fox.html',\n",
        " 'http://armenianhouse.org/tumanyan/tales-am/fool.html',\n",
        " 'http://armenianhouse.org/tumanyan/tales-am/fish.html',\n",
        " 'http://armenianhouse.org/tumanyan/tales-am/kid.html',\n",
        " 'http://armenianhouse.org/tumanyan/tales-am/gold.html', #+\n",
        " 'http://armenianhouse.org/tumanyan/tales-am/liar.html',\n",
        " 'http://armenianhouse.org/tumanyan/tales-am/rooster.html',\n",
        " 'http://armenianhouse.org/tumanyan/tales-am/feast.html',\n",
        " 'http://armenianhouse.org/tumanyan/tales-am/owner.html',#+\n",
        " 'http://armenianhouse.org/tumanyan/tales-am/king.html', #+\n",
        " 'http://armenianhouse.org/tumanyan/tales-am/nazar.html']"
      ],
      "metadata": {
        "id": "novfzUMqed4P"
      },
      "execution_count": 119,
      "outputs": []
    },
    {
      "cell_type": "code",
      "source": [
        "result2 = [get_tales(l) for l in am_links]"
      ],
      "metadata": {
        "id": "jABgCecpjVra"
      },
      "execution_count": null,
      "outputs": []
    },
    {
      "cell_type": "code",
      "source": [
        "tales2 = {}\n",
        "for i in result2:\n",
        "  tales2.update(i)"
      ],
      "metadata": {
        "id": "SZr0FQbJZOsI"
      },
      "execution_count": 121,
      "outputs": []
    },
    {
      "cell_type": "code",
      "source": [
        "df3 = pd.DataFrame(tales2.items(), columns=['title_am', 'text_am'])"
      ],
      "metadata": {
        "id": "T0OZeodUZ-9h"
      },
      "execution_count": 122,
      "outputs": []
    },
    {
      "cell_type": "code",
      "source": [
        "frames2 = [ru_tales, df3]"
      ],
      "metadata": {
        "id": "4C4cyWQoaF7z"
      },
      "execution_count": 124,
      "outputs": []
    },
    {
      "cell_type": "markdown",
      "source": [
        "## Merging and downloading"
      ],
      "metadata": {
        "id": "0DyeW49Hiyf_"
      }
    },
    {
      "cell_type": "code",
      "source": [
        "all_tales = pd.concat(frames2, axis=1)"
      ],
      "metadata": {
        "id": "-B8xn0igaVOF"
      },
      "execution_count": 125,
      "outputs": []
    },
    {
      "cell_type": "code",
      "source": [
        "all_tales.to_csv('ru_ar_tales.csv')"
      ],
      "metadata": {
        "id": "xcBvqMeqiEVZ"
      },
      "execution_count": 128,
      "outputs": []
    },
    {
      "cell_type": "code",
      "source": [
        "zip_filename = \"scraped.zip\"\n",
        "zip = zipfile.ZipFile(zip_filename, \"w\", zipfile.ZIP_DEFLATED)\n",
        "zip.write(\"ru_ar_tales.csv\")\n",
        "zip.close()"
      ],
      "metadata": {
        "id": "Xoe6g9D3iOmE"
      },
      "execution_count": 130,
      "outputs": []
    },
    {
      "cell_type": "code",
      "source": [
        "from google.colab import files\n",
        "\n",
        "files.download(zip_filename)"
      ],
      "metadata": {
        "colab": {
          "base_uri": "https://localhost:8080/",
          "height": 17
        },
        "id": "jzDfsQvWiUMS",
        "outputId": "ff523940-9ed9-45f7-b922-ce6a15b42a28"
      },
      "execution_count": 131,
      "outputs": [
        {
          "output_type": "display_data",
          "data": {
            "text/plain": [
              "<IPython.core.display.Javascript object>"
            ],
            "application/javascript": [
              "\n",
              "    async function download(id, filename, size) {\n",
              "      if (!google.colab.kernel.accessAllowed) {\n",
              "        return;\n",
              "      }\n",
              "      const div = document.createElement('div');\n",
              "      const label = document.createElement('label');\n",
              "      label.textContent = `Downloading \"${filename}\": `;\n",
              "      div.appendChild(label);\n",
              "      const progress = document.createElement('progress');\n",
              "      progress.max = size;\n",
              "      div.appendChild(progress);\n",
              "      document.body.appendChild(div);\n",
              "\n",
              "      const buffers = [];\n",
              "      let downloaded = 0;\n",
              "\n",
              "      const channel = await google.colab.kernel.comms.open(id);\n",
              "      // Send a message to notify the kernel that we're ready.\n",
              "      channel.send({})\n",
              "\n",
              "      for await (const message of channel.messages) {\n",
              "        // Send a message to notify the kernel that we're ready.\n",
              "        channel.send({})\n",
              "        if (message.buffers) {\n",
              "          for (const buffer of message.buffers) {\n",
              "            buffers.push(buffer);\n",
              "            downloaded += buffer.byteLength;\n",
              "            progress.value = downloaded;\n",
              "          }\n",
              "        }\n",
              "      }\n",
              "      const blob = new Blob(buffers, {type: 'application/binary'});\n",
              "      const a = document.createElement('a');\n",
              "      a.href = window.URL.createObjectURL(blob);\n",
              "      a.download = filename;\n",
              "      div.appendChild(a);\n",
              "      a.click();\n",
              "      div.remove();\n",
              "    }\n",
              "  "
            ]
          },
          "metadata": {}
        },
        {
          "output_type": "display_data",
          "data": {
            "text/plain": [
              "<IPython.core.display.Javascript object>"
            ],
            "application/javascript": [
              "download(\"download_409be8f4-a936-4af8-a775-c7dca1538c11\", \"scraped.zip\", 59249)"
            ]
          },
          "metadata": {}
        }
      ]
    }
  ]
}